{
 "cells": [
  {
   "cell_type": "markdown",
   "metadata": {
    "id": "Hs3sCblWKLaB"
   },
   "source": [
    "# __FINAL PROJECT PHASE II__"
   ]
  },
  {
   "cell_type": "markdown",
   "metadata": {
    "id": "GDZFYmfxKLaE"
   },
   "source": [
    "# __RESEARCH QUESTION:__\n"
   ]
  },
  {
   "cell_type": "markdown",
   "metadata": {
    "id": "UQ8E-DnSKLaF"
   },
   "source": [
    "### Importing:"
   ]
  },
  {
   "cell_type": "code",
   "execution_count": 1,
   "metadata": {
    "id": "S7wrBGIDKLaF"
   },
   "outputs": [
    {
     "name": "stderr",
     "output_type": "stream",
     "text": [
      "/var/folders/n8/5lk2zknn785fwp1_wzpmgts80000gn/T/ipykernel_37998/611682050.py:8: MatplotlibDeprecationWarning: The seaborn styles shipped by Matplotlib are deprecated since 3.6, as they no longer correspond to the styles shipped by seaborn. However, they will remain available as 'seaborn-v0_8-<style>'. Alternatively, directly use the seaborn API instead.\n",
      "  plt.style.use('seaborn-poster')\n"
     ]
    }
   ],
   "source": [
    "# imports and settings\n",
    "import matplotlib.pyplot as plt\n",
    "import numpy as np\n",
    "import pandas as pd\n",
    "import seaborn as sns"
   ]
  },
  {
   "cell_type": "markdown",
   "metadata": {
    "id": "tZsuVc1pKLaG"
   },
   "source": [
    "### Data overview:"
   ]
  },
  {
   "cell_type": "markdown",
   "metadata": {
    "id": "bmqIGthIKLaI"
   },
   "source": [
    "# __DATA CLEANING APPENDIX__:\n"
   ]
  },
  {
   "cell_type": "markdown",
   "metadata": {
    "id": "9mXhaKtMKLaN"
   },
   "source": [
    "# __EXPLORATORY ANALYSIS:__"
   ]
  },
  {
   "cell_type": "markdown",
   "metadata": {
    "id": "yz_4U6oyKLaU"
   },
   "source": [
    "# __DATA DESCRIPTION:__"
   ]
  },
  {
   "cell_type": "markdown",
   "metadata": {
    "id": "5GmFsq8fKLaU"
   },
   "source": [
    "### __MOTIVATION__\n",
    "\n",
    "\n",
    "__Who funded the creation of the dataset?__\n",
    "\n",
    "\n"
   ]
  },
  {
   "cell_type": "markdown",
   "metadata": {
    "id": "KaEBx44HKLaV"
   },
   "source": [
    "### __COMPOSITION__\n",
    "\n",
    "__What do the instances that comprise the dataset represent? __\n",
    "\n",
    "__Are there any errors, sources of noise, or redundancies in the dataset? __\n",
    "\n",
    "__Is the dataset self-contained, or does it link to or otherwise rely on external resources?__\n",
    "\n",
    "__What are the observations (rows) and the attributes (columns)?__\n"
   ]
  },
  {
   "cell_type": "markdown",
   "metadata": {
    "id": "JPvSX6h9KLaW"
   },
   "source": [
    "### __COLLECTION PROCESS__\n",
    "\n",
    "__What processes might have influenced what data was observed and recorded and what was not? __\n",
    "\n",
    "__Over what time frame was the data collected?__\n",
    "\n",
    "\n",
    "__How was the data associated with each instance acquired?__\n",
    "\n",
    "\n",
    "__What preprocessing was done, and how did the data come to be in the form that you are using?__\n"
   ]
  },
  {
   "cell_type": "markdown",
   "metadata": {
    "id": "8WWu5dANKLaW"
   },
   "source": [
    "# __DATA LIMITATIONS__:"
   ]
  },
  {
   "cell_type": "markdown",
   "metadata": {
    "id": "xhvUXoe3KLaW"
   },
   "source": [
    "__The two main limitations of our data set that have been noticed are:__\n",
    "\n"
   ]
  },
  {
   "cell_type": "markdown",
   "metadata": {
    "id": "UHZDWb8kKLaX"
   },
   "source": [
    "# __QUESTIONS FOR REVIEWRS__:"
   ]
  },
  {
   "cell_type": "code",
   "execution_count": null,
   "metadata": {
    "id": "dS8J6UxzKLaX"
   },
   "outputs": [],
   "source": []
  }
 ],
 "metadata": {
  "colab": {
   "provenance": []
  },
  "kernelspec": {
   "display_name": "Python 3 (ipykernel)",
   "language": "python",
   "name": "python3"
  },
  "language_info": {
   "codemirror_mode": {
    "name": "ipython",
    "version": 3
   },
   "file_extension": ".py",
   "mimetype": "text/x-python",
   "name": "python",
   "nbconvert_exporter": "python",
   "pygments_lexer": "ipython3",
   "version": "3.11.4"
  }
 },
 "nbformat": 4,
 "nbformat_minor": 1
}
